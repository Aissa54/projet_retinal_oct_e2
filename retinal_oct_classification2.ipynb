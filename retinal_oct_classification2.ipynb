{
 "cells": [
  {
   "cell_type": "markdown",
   "id": "44e13f3a",
   "metadata": {},
   "source": [
    "# Detecting Retina Damage From Optical Coherence Tomography (OCT) Images, using Transfer Learning on VGG16 CNN Model\n",
    "## Context\n",
    "Retinal Optical Coherence Tomography (OCT) is an imaging technique used to capture high-resolution cross sections of the retinas of living patients. Approximately 30 million OCT scans are performed each year, and the analysis and interpretation of these images takes up a significant amount of time (Swanson and Fujimoto, 2017).\n",
    "\n",
    "![Figure 1.](https://i.imgur.com/fSTeZMd.png)\n",
    "\n",
    "Figure 1. Representative Optical Coherence Tomography Images and the Workflow Diagram \\[Kermany et. al. 2018\\]\n",
    "\n",
    "(A) (Far left) Choroidal Neo-Vascularization (CNV) with neovascular membrane (white arrowheads) and associated subretinal fluid (arrows). (Middle left) Diabetic Macular Edema (DME) with retinal-thickening-associated intraretinal fluid (arrows). (Middle right) Multiple drusen (arrowheads) present in early AMD. (Far right) Normal retina with preserved foveal contour and absence of any retinal fluid/edema.\n",
    "\n",
    "## Content\n",
    "* The dataset is organized into 3 folders (train, test, val) and contains subfolders for each image category (NORMAL,CNV,DME,DRUSEN). There are 84,495 X-Ray images (JPEG) and 4 categories (NORMAL,CNV,DME,DRUSEN).\n",
    "* Images are labeled as (disease)-(randomized patient ID)-(image number by this patient) and split into 4 directories: CNV, DME, DRUSEN, and NORMAL.\n",
    "\n",
    "* Optical coherence tomography (OCT) images (Spectralis OCT, Heidelberg Engineering, Germany) were selected from retrospective cohorts of adult patients from the Shiley Eye Institute of the University of California San Diego, the California Retinal Research Foundation, Medical Center Ophthalmology Associates, the Shanghai First People’s Hospital, and Beijing Tongren Eye Center between July 1, 2013 and March 1, 2017.\n",
    "\n",
    "## Acknowledgements\n",
    "* Data: https://data.mendeley.com/datasets/rscbjbr9sj/2\n",
    "* Citation: http://www.cell.com/cell/fulltext/S0092-8674(18)30154-5"
   ]
  },
  {
   "cell_type": "markdown",
   "id": "6273548a",
   "metadata": {},
   "source": [
    "## Installing and Importing Libraries"
   ]
  },
  {
   "cell_type": "code",
   "execution_count": 1,
   "id": "7dec5fe9",
   "metadata": {},
   "outputs": [
    {
     "name": "stderr",
     "output_type": "stream",
     "text": [
      "/home/u000441/miniconda3/envs/simplon/lib/python3.8/site-packages/scipy/__init__.py:146: UserWarning: A NumPy version >=1.16.5 and <1.23.0 is required for this version of SciPy (detected version 1.23.1\n",
      "  warnings.warn(f\"A NumPy version >={np_minversion} and <{np_maxversion}\"\n",
      "2022-11-14 13:35:46.753335: I tensorflow/core/platform/cpu_feature_guard.cc:193] This TensorFlow binary is optimized with oneAPI Deep Neural Network Library (oneDNN) to use the following CPU instructions in performance-critical operations:  AVX2 FMA\n",
      "To enable them in other operations, rebuild TensorFlow with the appropriate compiler flags.\n",
      "2022-11-14 13:35:46.934321: E tensorflow/stream_executor/cuda/cuda_blas.cc:2981] Unable to register cuBLAS factory: Attempting to register factory for plugin cuBLAS when one has already been registered\n",
      "2022-11-14 13:35:47.512227: W tensorflow/stream_executor/platform/default/dso_loader.cc:64] Could not load dynamic library 'libnvinfer.so.7'; dlerror: libnvinfer.so.7: cannot open shared object file: No such file or directory\n",
      "2022-11-14 13:35:47.512309: W tensorflow/stream_executor/platform/default/dso_loader.cc:64] Could not load dynamic library 'libnvinfer_plugin.so.7'; dlerror: libnvinfer_plugin.so.7: cannot open shared object file: No such file or directory\n",
      "2022-11-14 13:35:47.512315: W tensorflow/compiler/tf2tensorrt/utils/py_utils.cc:38] TF-TRT Warning: Cannot dlopen some TensorRT libraries. If you would like to use Nvidia GPU with TensorRT, please make sure the missing libraries mentioned above are installed properly.\n"
     ]
    }
   ],
   "source": [
    "import os\n",
    "from glob import glob\n",
    "import pandas as pd\n",
    "import numpy as np\n",
    "from numpy import expand_dims\n",
    "import matplotlib.pyplot as plt\n",
    "import matplotlib.image as mpimg\n",
    "import seaborn as sn\n",
    "from skimage.transform import resize\n",
    "from skimage.color import gray2rgb\n",
    "from sklearn.metrics import classification_report, confusion_matrix\n",
    "from IPython.display import SVG\n",
    "import keract\n",
    "import tensorflow as tf\n",
    "from tensorflow import keras\n",
    "from tensorflow.keras import applications, optimizers\n",
    "from tensorflow.keras.models import Model, Sequential, load_model\n",
    "from tensorflow.keras.preprocessing.image import ImageDataGenerator, load_img, img_to_array\n",
    "from tensorflow.keras.layers import Dense, Flatten, Dropout\n",
    "from tensorflow.keras.applications.vgg16 import VGG16, preprocess_input\n",
    "from tensorflow.keras.utils import to_categorical, model_to_dot, plot_model\n",
    "from tensorflow.keras.callbacks import ModelCheckpoint, EarlyStopping, CSVLogger, ReduceLROnPlateau"
   ]
  },
  {
   "cell_type": "code",
   "execution_count": 2,
   "id": "ca1d3c52",
   "metadata": {},
   "outputs": [
    {
     "name": "stdout",
     "output_type": "stream",
     "text": [
      "env: CUDA_VISIBLE_DEVICES=1\n"
     ]
    }
   ],
   "source": [
    "%env CUDA_VISIBLE_DEVICES=1"
   ]
  },
  {
   "cell_type": "code",
   "execution_count": 3,
   "id": "0fe32d2c",
   "metadata": {},
   "outputs": [
    {
     "name": "stdout",
     "output_type": "stream",
     "text": [
      "1 Physical GPUs, 1 Logical GPU\n"
     ]
    },
    {
     "name": "stderr",
     "output_type": "stream",
     "text": [
      "2022-11-14 13:35:48.247695: I tensorflow/core/platform/cpu_feature_guard.cc:193] This TensorFlow binary is optimized with oneAPI Deep Neural Network Library (oneDNN) to use the following CPU instructions in performance-critical operations:  AVX2 FMA\n",
      "To enable them in other operations, rebuild TensorFlow with the appropriate compiler flags.\n",
      "2022-11-14 13:35:48.772875: I tensorflow/core/common_runtime/gpu/gpu_device.cc:1616] Created device /job:localhost/replica:0/task:0/device:GPU:0 with 38404 MB memory:  -> device: 0, name: A100-PCIE-40GB, pci bus id: 0000:81:00.0, compute capability: 8.0\n"
     ]
    }
   ],
   "source": [
    "gpus = tf.config.list_physical_devices('GPU')\n",
    "if gpus:\n",
    "  # Restrict TensorFlow to only use the first GPU\n",
    "  try:\n",
    "    tf.config.set_visible_devices(gpus[0], 'GPU')\n",
    "    logical_gpus = tf.config.list_logical_devices('GPU')\n",
    "    print(len(gpus), \"Physical GPUs,\", len(logical_gpus), \"Logical GPU\")\n",
    "  except RuntimeError as e:\n",
    "    # Visible devices must be set before GPUs have been initialized\n",
    "    print(e)"
   ]
  },
  {
   "cell_type": "code",
   "execution_count": 4,
   "id": "21699ce4",
   "metadata": {},
   "outputs": [
    {
     "name": "stdout",
     "output_type": "stream",
     "text": [
      "Num GPUs Available:  1\n"
     ]
    }
   ],
   "source": [
    "import tensorflow as tf\n",
    "print(\"Num GPUs Available: \", len(tf.config.list_physical_devices('GPU')))"
   ]
  },
  {
   "cell_type": "code",
   "execution_count": 5,
   "id": "2453fa79",
   "metadata": {},
   "outputs": [],
   "source": [
    "data_dir = \"OCT2017 /\"\n",
    "train_data_dir= 'OCT2017 /train/'\n",
    "val_data_dir= 'OCT2017 /val/'\n",
    "test_data_dir= 'OCT2017 /test/'\n",
    "img_width, img_height = 150, 150 \n",
    "channels = 3\n",
    "batch_size = 32"
   ]
  },
  {
   "cell_type": "markdown",
   "id": "ba2d4e83",
   "metadata": {},
   "source": [
    "### Keras Data Generators"
   ]
  },
  {
   "cell_type": "code",
   "execution_count": 6,
   "id": "5b3a5c2c",
   "metadata": {},
   "outputs": [],
   "source": [
    "train_datagen = ImageDataGenerator(\n",
    "    rescale= 1./255,\n",
    "    zoom_range= (0.73, 0.9),\n",
    "    horizontal_flip= True,\n",
    "    rotation_range= 10,\n",
    "    width_shift_range= 0.10,\n",
    "    fill_mode= 'constant',\n",
    "    height_shift_range= 0.10,   \n",
    "    brightness_range= (0.55, 0.9),\n",
    ")\n",
    "\n",
    "valid_test_datagen = ImageDataGenerator(\n",
    "    rescale= 1./255, \n",
    ")"
   ]
  },
  {
   "cell_type": "code",
   "execution_count": 7,
   "id": "8086e1e5",
   "metadata": {},
   "outputs": [
    {
     "name": "stdout",
     "output_type": "stream",
     "text": [
      "Found 83484 images belonging to 4 classes.\n",
      "Found 32 images belonging to 4 classes.\n",
      "Found 968 images belonging to 4 classes.\n"
     ]
    }
   ],
   "source": [
    "train_generator = train_datagen.flow_from_directory(  \n",
    "    train_data_dir,  \n",
    "    target_size= (img_width, img_height), \n",
    "    color_mode= 'rgb',\n",
    "    batch_size= batch_size,  \n",
    "    class_mode= 'categorical',\n",
    "    shuffle= True, \n",
    "    seed= 1337\n",
    ") \n",
    "\n",
    "valid_generator = valid_test_datagen.flow_from_directory(\n",
    "    val_data_dir,\n",
    "    target_size= (img_width, img_height),\n",
    "    color_mode= 'rgb',\n",
    "    batch_size= batch_size,  \n",
    "    class_mode= 'categorical',\n",
    "    shuffle= True, \n",
    "    seed= 1337\n",
    ")\n",
    "\n",
    "test_generator = valid_test_datagen.flow_from_directory(  \n",
    "    test_data_dir,  \n",
    "    target_size= (img_width, img_height), \n",
    "    color_mode= 'rgb',\n",
    "    batch_size= batch_size,        \n",
    "    class_mode= 'categorical',\n",
    "    shuffle= False, \n",
    ")"
   ]
  },
  {
   "cell_type": "code",
   "execution_count": 8,
   "id": "39386bbb",
   "metadata": {},
   "outputs": [],
   "source": [
    "num_classes = len(train_generator.class_indices)  \n",
    "train_labels = train_generator.classes \n",
    "train_labels = to_categorical(train_labels, num_classes=num_classes)\n",
    "valid_labels = valid_generator.classes \n",
    "valid_labels = to_categorical(valid_labels, num_classes=num_classes)\n",
    "nb_train_samples = len(train_generator.filenames)  \n",
    "nb_valid_samples = len(valid_generator.filenames)\n",
    "nb_test_samples = len(test_generator.filenames)"
   ]
  },
  {
   "cell_type": "markdown",
   "id": "9e240ea3",
   "metadata": {},
   "source": [
    "# Model\n",
    "* VGG16 CNN architecture is used for calssification.\n",
    "* Pretrained on the 'ImageNet' dataset."
   ]
  },
  {
   "cell_type": "code",
   "execution_count": 9,
   "id": "ae018c86",
   "metadata": {},
   "outputs": [
    {
     "name": "stdout",
     "output_type": "stream",
     "text": [
      "Model: \"vgg16\"\n",
      "_________________________________________________________________\n",
      " Layer (type)                Output Shape              Param #   \n",
      "=================================================================\n",
      " input_1 (InputLayer)        [(None, 150, 150, 3)]     0         \n",
      "                                                                 \n",
      " block1_conv1 (Conv2D)       (None, 150, 150, 64)      1792      \n",
      "                                                                 \n",
      " block1_conv2 (Conv2D)       (None, 150, 150, 64)      36928     \n",
      "                                                                 \n",
      " block1_pool (MaxPooling2D)  (None, 75, 75, 64)        0         \n",
      "                                                                 \n",
      " block2_conv1 (Conv2D)       (None, 75, 75, 128)       73856     \n",
      "                                                                 \n",
      " block2_conv2 (Conv2D)       (None, 75, 75, 128)       147584    \n",
      "                                                                 \n",
      " block2_pool (MaxPooling2D)  (None, 37, 37, 128)       0         \n",
      "                                                                 \n",
      " block3_conv1 (Conv2D)       (None, 37, 37, 256)       295168    \n",
      "                                                                 \n",
      " block3_conv2 (Conv2D)       (None, 37, 37, 256)       590080    \n",
      "                                                                 \n",
      " block3_conv3 (Conv2D)       (None, 37, 37, 256)       590080    \n",
      "                                                                 \n",
      " block3_pool (MaxPooling2D)  (None, 18, 18, 256)       0         \n",
      "                                                                 \n",
      " block4_conv1 (Conv2D)       (None, 18, 18, 512)       1180160   \n",
      "                                                                 \n",
      " block4_conv2 (Conv2D)       (None, 18, 18, 512)       2359808   \n",
      "                                                                 \n",
      " block4_conv3 (Conv2D)       (None, 18, 18, 512)       2359808   \n",
      "                                                                 \n",
      " block4_pool (MaxPooling2D)  (None, 9, 9, 512)         0         \n",
      "                                                                 \n",
      " block5_conv1 (Conv2D)       (None, 9, 9, 512)         2359808   \n",
      "                                                                 \n",
      " block5_conv2 (Conv2D)       (None, 9, 9, 512)         2359808   \n",
      "                                                                 \n",
      " block5_conv3 (Conv2D)       (None, 9, 9, 512)         2359808   \n",
      "                                                                 \n",
      " block5_pool (MaxPooling2D)  (None, 4, 4, 512)         0         \n",
      "                                                                 \n",
      "=================================================================\n",
      "Total params: 14,714,688\n",
      "Trainable params: 14,714,688\n",
      "Non-trainable params: 0\n",
      "_________________________________________________________________\n"
     ]
    }
   ],
   "source": [
    "vgg16 = VGG16(include_top= False, input_shape= (img_width, img_height, channels), weights= 'vgg16_weights_tf_dim_ordering_tf_kernels_notop.h5')\n",
    "vgg16.summary()"
   ]
  },
  {
   "cell_type": "markdown",
   "id": "cb745285",
   "metadata": {},
   "source": [
    "## Test numéro 2  amélioration du modèle de base : \n",
    "\n",
    "On augmente le nombre de batch_size à 128 au lieu de 512"
   ]
  },
  {
   "cell_type": "code",
   "execution_count": 10,
   "id": "3646017b",
   "metadata": {},
   "outputs": [
    {
     "name": "stdout",
     "output_type": "stream",
     "text": [
      "Model: \"sequential\"\n",
      "_________________________________________________________________\n",
      " Layer (type)                Output Shape              Param #   \n",
      "=================================================================\n",
      " block1_conv1 (Conv2D)       (None, 150, 150, 64)      1792      \n",
      "                                                                 \n",
      " block1_conv2 (Conv2D)       (None, 150, 150, 64)      36928     \n",
      "                                                                 \n",
      " block1_pool (MaxPooling2D)  (None, 75, 75, 64)        0         \n",
      "                                                                 \n",
      " block2_conv1 (Conv2D)       (None, 75, 75, 128)       73856     \n",
      "                                                                 \n",
      " block2_conv2 (Conv2D)       (None, 75, 75, 128)       147584    \n",
      "                                                                 \n",
      " block2_pool (MaxPooling2D)  (None, 37, 37, 128)       0         \n",
      "                                                                 \n",
      " block3_conv1 (Conv2D)       (None, 37, 37, 256)       295168    \n",
      "                                                                 \n",
      " block3_conv2 (Conv2D)       (None, 37, 37, 256)       590080    \n",
      "                                                                 \n",
      " block3_conv3 (Conv2D)       (None, 37, 37, 256)       590080    \n",
      "                                                                 \n",
      " block3_pool (MaxPooling2D)  (None, 18, 18, 256)       0         \n",
      "                                                                 \n",
      " block4_conv1 (Conv2D)       (None, 18, 18, 512)       1180160   \n",
      "                                                                 \n",
      " block4_conv2 (Conv2D)       (None, 18, 18, 512)       2359808   \n",
      "                                                                 \n",
      " block4_conv3 (Conv2D)       (None, 18, 18, 512)       2359808   \n",
      "                                                                 \n",
      " block4_pool (MaxPooling2D)  (None, 9, 9, 512)         0         \n",
      "                                                                 \n",
      " block5_conv1 (Conv2D)       (None, 9, 9, 512)         2359808   \n",
      "                                                                 \n",
      " block5_conv2 (Conv2D)       (None, 9, 9, 512)         2359808   \n",
      "                                                                 \n",
      " block5_conv3 (Conv2D)       (None, 9, 9, 512)         2359808   \n",
      "                                                                 \n",
      " block5_pool (MaxPooling2D)  (None, 4, 4, 512)         0         \n",
      "                                                                 \n",
      " flatten (Flatten)           (None, 8192)              0         \n",
      "                                                                 \n",
      " dropout (Dropout)           (None, 8192)              0         \n",
      "                                                                 \n",
      " dense (Dense)               (None, 4)                 32772     \n",
      "                                                                 \n",
      "=================================================================\n",
      "Total params: 14,747,460\n",
      "Trainable params: 32,772\n",
      "Non-trainable params: 14,714,688\n",
      "_________________________________________________________________\n"
     ]
    }
   ],
   "source": [
    "model2 = Sequential()\n",
    "\n",
    "for layer in vgg16.layers:\n",
    "    model2.add(layer)\n",
    "\n",
    "for layer in model2.layers:\n",
    "    layer.trainable= False\n",
    "\n",
    "model2.add(Flatten(input_shape= (4, 4, 512)))\n",
    "model2.add(Dropout(0.2))\n",
    "model2.add(Dense(4,activation='softmax'))\n",
    "\n",
    "model2.summary()"
   ]
  },
  {
   "cell_type": "code",
   "execution_count": 11,
   "id": "96fb6cee",
   "metadata": {},
   "outputs": [
    {
     "name": "stderr",
     "output_type": "stream",
     "text": [
      "/home/u000441/miniconda3/envs/simplon/lib/python3.8/site-packages/keras/optimizers/optimizer_v2/adam.py:114: UserWarning: The `lr` argument is deprecated, use `learning_rate` instead.\n",
      "  super().__init__(name, **kwargs)\n"
     ]
    }
   ],
   "source": [
    "model2.compile(optimizer= keras.optimizers.Adam(lr= 0.0001), loss= 'categorical_crossentropy', metrics= ['accuracy'])"
   ]
  },
  {
   "cell_type": "code",
   "execution_count": 12,
   "id": "c82a5c89",
   "metadata": {},
   "outputs": [
    {
     "name": "stdout",
     "output_type": "stream",
     "text": [
      "Epoch 1/10\n"
     ]
    },
    {
     "name": "stderr",
     "output_type": "stream",
     "text": [
      "2022-11-14 13:35:53.688809: I tensorflow/stream_executor/cuda/cuda_dnn.cc:384] Loaded cuDNN version 8401\n",
      "2022-11-14 13:35:54.639167: I tensorflow/core/platform/default/subprocess.cc:304] Start cannot spawn child process: No such file or directory\n"
     ]
    },
    {
     "name": "stdout",
     "output_type": "stream",
     "text": [
      "   9/2609 [..............................] - ETA: 40s - loss: 1.3396 - accuracy: 0.4062   "
     ]
    },
    {
     "name": "stderr",
     "output_type": "stream",
     "text": [
      "2022-11-14 13:35:55.126828: I tensorflow/stream_executor/cuda/cuda_blas.cc:1614] TensorFloat-32 will be used for the matrix multiplication. This will only be logged once.\n"
     ]
    },
    {
     "name": "stdout",
     "output_type": "stream",
     "text": [
      "2609/2609 [==============================] - 82s 30ms/step - loss: 0.6660 - accuracy: 0.7593 - val_loss: 0.5270 - val_accuracy: 0.7188\n",
      "Epoch 2/10\n",
      "2609/2609 [==============================] - 78s 29ms/step - loss: 0.5113 - accuracy: 0.8157 - val_loss: 0.3765 - val_accuracy: 0.8438\n",
      "Epoch 3/10\n",
      "2609/2609 [==============================] - 78s 29ms/step - loss: 0.4737 - accuracy: 0.8310 - val_loss: 0.3429 - val_accuracy: 0.9375\n",
      "Epoch 4/10\n",
      "2609/2609 [==============================] - 76s 29ms/step - loss: 0.4543 - accuracy: 0.8359 - val_loss: 0.3728 - val_accuracy: 0.8438\n",
      "Epoch 5/10\n",
      "2609/2609 [==============================] - 77s 29ms/step - loss: 0.4431 - accuracy: 0.8398 - val_loss: 0.2860 - val_accuracy: 0.9062\n",
      "Epoch 6/10\n",
      "2609/2609 [==============================] - 76s 29ms/step - loss: 0.4326 - accuracy: 0.8451 - val_loss: 0.3340 - val_accuracy: 0.9375\n",
      "Epoch 7/10\n",
      "2609/2609 [==============================] - 76s 29ms/step - loss: 0.4258 - accuracy: 0.8474 - val_loss: 0.3887 - val_accuracy: 0.9062\n",
      "Epoch 8/10\n",
      "2609/2609 [==============================] - 77s 29ms/step - loss: 0.4239 - accuracy: 0.8475 - val_loss: 0.3480 - val_accuracy: 0.8750\n",
      "Epoch 9/10\n",
      "2609/2609 [==============================] - 77s 29ms/step - loss: 0.4167 - accuracy: 0.8501 - val_loss: 0.3590 - val_accuracy: 0.8750\n",
      "Epoch 10/10\n",
      "2609/2609 [==============================] - 77s 29ms/step - loss: 0.4148 - accuracy: 0.8509 - val_loss: 0.3851 - val_accuracy: 0.8125\n"
     ]
    }
   ],
   "source": [
    "numepochs = 10\n",
    "batch_size = 512\n",
    "checkpoint_filepath = 'tmp/checkpoint'\n",
    "checkpoint = ModelCheckpoint(\n",
    "    filepath=checkpoint_filepath,\n",
    "    save_weights_only=True,\n",
    "    monitor='val_accuracy',\n",
    "    mode='max',\n",
    "    save_best_only=True)\n",
    "earlystop = EarlyStopping(monitor='val_accuracy', patience=10, verbose=1)\n",
    "callbacks_list = [earlystop,checkpoint]\n",
    "history = model2.fit(train_generator,\n",
    "                        use_multiprocessing=True,\n",
    "                        workers=8,\n",
    "                        epochs=numepochs, \n",
    "                        batch_size = batch_size,\n",
    "                        validation_data=valid_generator,\n",
    "                        verbose=1,\n",
    "                        callbacks = callbacks_list)"
   ]
  },
  {
   "cell_type": "markdown",
   "id": "f3d0c4b2",
   "metadata": {},
   "source": [
    "### Evaluations on Test Dataset"
   ]
  },
  {
   "cell_type": "code",
   "execution_count": 13,
   "id": "344a00ed",
   "metadata": {},
   "outputs": [
    {
     "name": "stdout",
     "output_type": "stream",
     "text": [
      "31/31 [==============================] - 3s 88ms/step - loss: 0.3905 - accuracy: 0.8430\n",
      "Test Loss:  0.3905104398727417\n",
      "Test Accuracy:  0.8429751992225647\n"
     ]
    }
   ],
   "source": [
    "(eval_loss, eval_accuracy) = model2.evaluate(test_generator, batch_size= batch_size, verbose= 1)\n",
    "print('Test Loss: ', eval_loss)\n",
    "print('Test Accuracy: ', eval_accuracy)"
   ]
  },
  {
   "cell_type": "code",
   "execution_count": 14,
   "id": "0e7ba0e0",
   "metadata": {},
   "outputs": [
    {
     "data": {
      "image/png": "[encoded data removed]",
      "text/plain": [
       "<Figure size 432x288 with 1 Axes>"
      ]
     },
     "metadata": {
      "needs_background": "light"
     },
     "output_type": "display_data"
    },
    {
     "data": {
      "image/png": "[encoded data removed]",
      "text/plain": [
       "<Figure size 432x288 with 1 Axes>"
      ]
     },
     "metadata": {
      "needs_background": "light"
     },
     "output_type": "display_data"
    }
   ],
   "source": [
    "plt.subplot()\n",
    "plt.rcParams['figure.figsize'] = (6.0, 4.0)\n",
    "plt.title('Model2 Accuracy')\n",
    "plt.plot(history.history['accuracy'])\n",
    "plt.plot(history.history['val_accuracy'])\n",
    "plt.ylabel('Accuracy')\n",
    "plt.xlabel('Epochs')\n",
    "plt.legend(['Training Accuracy','Validation Accuracy'])\n",
    "plt.savefig('Model2_acc_epoch.png', transparent= False, bbox_inches= 'tight', dpi= 400)\n",
    "plt.show()\n",
    "\n",
    "\n",
    "plt.subplot()\n",
    "plt.title('Model2 Loss')\n",
    "plt.plot(history.history['loss'])\n",
    "plt.plot(history.history['val_loss'])\n",
    "plt.ylabel('Loss')\n",
    "plt.xlabel('Epochs')\n",
    "plt.legend(['Training Loss','Validation Loss'])\n",
    "plt.savefig('Model2_loss_epoch.png', transparent= False, bbox_inches= 'tight', dpi= 400)\n",
    "plt.show()"
   ]
  },
  {
   "cell_type": "code",
   "execution_count": 15,
   "id": "5007e7f0",
   "metadata": {},
   "outputs": [
    {
     "name": "stdout",
     "output_type": "stream",
     "text": [
      "31/31 [==============================] - 3s 78ms/step\n"
     ]
    },
    {
     "data": {
      "image/png": "[encoded data removed]",
      "text/plain": [
       "<Figure size 720x576 with 2 Axes>"
      ]
     },
     "metadata": {
      "needs_background": "light"
     },
     "output_type": "display_data"
    },
    {
     "name": "stdout",
     "output_type": "stream",
     "text": [
      "Classification Report Model2\n",
      "\n",
      "              precision    recall  f1-score   support\n",
      "\n",
      "         CNV       0.72      0.99      0.83       242\n",
      "         DME       0.99      0.79      0.88       242\n",
      "      DRUSEN       0.99      0.59      0.74       242\n",
      "      NORMAL       0.82      1.00      0.90       242\n",
      "\n",
      "    accuracy                           0.84       968\n",
      "   macro avg       0.88      0.84      0.84       968\n",
      "weighted avg       0.88      0.84      0.84       968\n",
      "\n"
     ]
    }
   ],
   "source": [
    "Y_pred = model2.predict(test_generator, nb_test_samples // batch_size+1)\n",
    "y_pred = np.argmax(Y_pred, axis=1)\n",
    "cm = confusion_matrix(test_generator.classes, y_pred)\n",
    "df_cm = pd.DataFrame(cm, list(test_generator.class_indices.keys()), list(test_generator.class_indices.keys()))\n",
    "fig, ax = plt.subplots(figsize=(10,8))\n",
    "sn.set(font_scale=1.4) # for label size\n",
    "sn.heatmap(df_cm, annot=True, annot_kws={\"size\": 16}, cmap=plt.cm.Blues)\n",
    "plt.title('Confusion Matrix Model2\\n')\n",
    "plt.savefig('confusion_matrix_model2.png', transparent= False, bbox_inches= 'tight', dpi= 400)\n",
    "plt.show()\n",
    "\n",
    "print('Classification Report Model2\\n')\n",
    "target_names = list(test_generator.class_indices.keys())\n",
    "print(classification_report(test_generator.classes, y_pred, target_names=target_names))"
   ]
  },
  {
   "cell_type": "markdown",
   "id": "8d707d76",
   "metadata": {},
   "source": [
    "### Save the model2"
   ]
  },
  {
   "cell_type": "code",
   "execution_count": 16,
   "id": "e05302e0",
   "metadata": {},
   "outputs": [
    {
     "name": "stdout",
     "output_type": "stream",
     "text": [
      "Saved model1 to disk\n"
     ]
    }
   ],
   "source": [
    "# save model and architecture to single file\n",
    "model2.save(\"model2_retinal-oct.h5\")\n",
    "print(\"Saved model1 to disk\")"
   ]
  },
  {
   "cell_type": "markdown",
   "id": "71150e21",
   "metadata": {},
   "source": [
    "### Prediction test2"
   ]
  },
  {
   "cell_type": "code",
   "execution_count": 17,
   "id": "5309556f",
   "metadata": {},
   "outputs": [
    {
     "name": "stdout",
     "output_type": "stream",
     "text": [
      "1/1 [==============================] - 0s 281ms/step\n",
      "0\n",
      "CNV\n"
     ]
    }
   ],
   "source": [
    "from PIL import Image\n",
    "import io\n",
    "model = tf.keras.models.load_model('retinal-oct.h5')\n",
    "model.compile(optimizer = 'adam', loss = 'categorical_crossentropy', metrics = ['accuracy'])\n",
    "from keras.preprocessing import image\n",
    "\n",
    "test_image = tf.keras.utils.load_img(\"OCT2017 /test/CNV/CNV-1016042-1.jpeg\", target_size = (150, 150)) \n",
    "test_image = tf.keras.utils.img_to_array(test_image)\n",
    "test_image = np.expand_dims(test_image, axis = 0)\n",
    "\n",
    "#predict the result\n",
    "result = np.argmax(model.predict(test_image))\n",
    "print(result)\n",
    "print(list(train_generator.class_indices.keys())[list(train_generator.class_indices.values()).index(result)])"
   ]
  }
 ],
 "metadata": {
  "kernelspec": {
   "display_name": "Python 3 (ipykernel)",
   "language": "python",
   "name": "python3"
  },
  "language_info": {
   "codemirror_mode": {
    "name": "ipython",
    "version": 3
   },
   "file_extension": ".py",
   "mimetype": "text/x-python",
   "name": "python",
   "nbconvert_exporter": "python",
   "pygments_lexer": "ipython3",
   "version": "3.8.13"
  }
 },
 "nbformat": 4,
 "nbformat_minor": 5
}
